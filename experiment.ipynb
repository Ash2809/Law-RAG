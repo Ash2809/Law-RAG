{
 "cells": [
  {
   "cell_type": "code",
   "execution_count": 1,
   "metadata": {},
   "outputs": [
    {
     "name": "stderr",
     "output_type": "stream",
     "text": [
      "c:\\a\\envs\\law\\lib\\site-packages\\tqdm\\auto.py:21: TqdmWarning: IProgress not found. Please update jupyter and ipywidgets. See https://ipywidgets.readthedocs.io/en/stable/user_install.html\n",
      "  from .autonotebook import tqdm as notebook_tqdm\n"
     ]
    }
   ],
   "source": [
    "from langchain.text_splitter import RecursiveCharacterTextSplitter\n",
    "from langchain.document_loaders import PyPDFLoader,DirectoryLoader\n",
    "from langchain_google_genai import ChatGoogleGenerativeAI, GoogleGenerativeAIEmbeddings\n",
    "from langchain_astradb import AstraDBVectorStore\n",
    "from langchain_core.prompts import ChatPromptTemplate\n",
    "from langchain.pydantic_v1 import BaseModel, Field\n",
    "from langchain_core.output_parsers import StrOutputParser\n",
    "from langchain import hub\n",
    "from langchain.schema import Document\n",
    "from langgraph.graph import START, StateGraph, END\n",
    "from typing import Literal, List\n",
    "from typing_extensions import TypedDict\n",
    "from dotenv import load_dotenv\n",
    "import os"
   ]
  },
  {
   "cell_type": "code",
   "execution_count": 2,
   "metadata": {},
   "outputs": [],
   "source": [
    "load_dotenv()\n",
    "\n",
    "GOOGLE_API_KEY = os.getenv(\"GOOGLE_API_KEY\")\n",
    "ASTRA_API_KEY = os.getenv(\"ASTRA_API_KEY\")\n",
    "DB_ENDPOINT = os.getenv(\"DB_ENDPOINT\")\n",
    "DB_ID = os.getenv(\"DB_ID\")"
   ]
  },
  {
   "cell_type": "code",
   "execution_count": 3,
   "metadata": {},
   "outputs": [
    {
     "name": "stdout",
     "output_type": "stream",
     "text": [
      "The capital of India is **New Delhi**. \n",
      "\n"
     ]
    }
   ],
   "source": [
    "llm = ChatGoogleGenerativeAI(api_key = GOOGLE_API_KEY, model = \"gemini-1.5-pro\",temperature = 1)\n",
    "print(llm.invoke(\"What is capital of India\").content)"
   ]
  },
  {
   "cell_type": "code",
   "execution_count": 4,
   "metadata": {},
   "outputs": [],
   "source": [
    "def pdf_2_document(data):\n",
    "    loader = DirectoryLoader(glob = \"*.pdf\", loader_cls = PyPDFLoader, path = data)\n",
    "    docs = loader.load()\n",
    "    return docs"
   ]
  },
  {
   "cell_type": "code",
   "execution_count": 5,
   "metadata": {},
   "outputs": [],
   "source": [
    "docs = pdf_2_document(\"data/\")"
   ]
  },
  {
   "cell_type": "code",
   "execution_count": 6,
   "metadata": {},
   "outputs": [],
   "source": [
    "def text_2_chunks(docs):\n",
    "    splitter = RecursiveCharacterTextSplitter(chunk_size = 500, chunk_overlap = 100)\n",
    "    chunks = splitter.split_documents(docs)\n",
    "    return chunks"
   ]
  },
  {
   "cell_type": "code",
   "execution_count": 7,
   "metadata": {},
   "outputs": [
    {
     "data": {
      "text/plain": [
       "2306"
      ]
     },
     "execution_count": 7,
     "metadata": {},
     "output_type": "execute_result"
    }
   ],
   "source": [
    "chunks = text_2_chunks(docs)\n",
    "len(chunks)"
   ]
  },
  {
   "cell_type": "markdown",
   "metadata": {},
   "source": [
    "Data Ingestion Process"
   ]
  },
  {
   "cell_type": "code",
   "execution_count": 5,
   "metadata": {},
   "outputs": [],
   "source": [
    "gemini_embedding = GoogleGenerativeAIEmbeddings(google_api_key = GOOGLE_API_KEY, model = \"models/embedding-001\")"
   ]
  },
  {
   "cell_type": "code",
   "execution_count": 11,
   "metadata": {},
   "outputs": [],
   "source": [
    "def ingest(status):\n",
    "    vector_store = AstraDBVectorStore(embedding = gemini_embedding,\n",
    "                                      api_endpoint = DB_ENDPOINT,\n",
    "                                      namespace = \"constitution\",\n",
    "                                      token = ASTRA_API_KEY,\n",
    "                                      collection_name = \"Law_bot\")\n",
    "    \n",
    "    if status == None:\n",
    "        len = vector_store.add_documents(chunks)\n",
    "        return vector_store\n",
    "    else:\n",
    "        return vector_store"
   ]
  },
  {
   "cell_type": "code",
   "execution_count": 12,
   "metadata": {},
   "outputs": [
    {
     "name": "stdout",
     "output_type": "stream",
     "text": [
      "Data Ingested Successfully\n"
     ]
    }
   ],
   "source": [
    "vector_store = ingest(\"done\")#CHANGE THIS THE PARAMETER TO NONE I ALREADY RAN THIS CELL HENCE IT IS \"done\",\n",
    "print(\"Data Ingested Successfully\")"
   ]
  },
  {
   "cell_type": "code",
   "execution_count": 29,
   "metadata": {},
   "outputs": [
    {
     "data": {
      "text/plain": [
       "[Document(metadata={'source': 'data\\\\Constitution.pdf', 'page': 41}, page_content='THE CONSTITUTION OF  INDIA\\n(Part III.—Fundamental Rights)11\\n(6) Nothing in sub-clause ( g) of the said clause shall affect the operation \\nof any existing law in so far as it imposes, or prevent the State from making \\nany law imposing, in the interests of the general public, reasonable restrictions \\non the exercise of the right conferred by the said sub-clause, and, in particular, \\n1[nothing in the said sub-clause shall affect the operation of any existing law in'),\n",
       " Document(metadata={'source': 'data\\\\Constitution.pdf', 'page': 43}, page_content='THE CONSTITUTION OF  INDIA\\n(Part III.—Fundamental Rights)13\\nProvided that nothing in this sub-clause shall authorise the detention \\nof any person beyond the maximum period prescribed by any law made \\nby Parliament under sub-clause ( b) of clause (7); or\\n(b) such person is detained in accordance with the provisions of any \\nlaw made by Parliament under sub-clauses ( a) and (b) of clause (7).\\n(5) When any person is detained in pursuance of an order made under'),\n",
       " Document(metadata={'source': 'data\\\\Constitution.pdf', 'page': 228}, page_content='THE CONSTITUTION OF  INDIA\\n(Part XVI. —Special Provisions Relating to Certain Classes) 198\\n(8) The Commission shall, while investigating any matter referred to in \\nsub-clause ( a) or inquiring into any complaint referred to in sub-clause ( b) of \\nclause (5), have all the powers of a civil court trying a suit and in particular in \\nrespect of the following matters, namely:—\\n(a) summoning and enforcing the attendance of any person from \\nany part of  India and examining him on oath;'),\n",
       " Document(metadata={'source': 'data\\\\Constitution.pdf', 'page': 42}, page_content='that State; and\\n(iii) in the case of the detention of a person in pursuance of an order of detention \\nmade by theadministrator of a Union territory or an officer or authority subordinate to such \\nadministrator, such High Court as may be specified by or under any law made by \\nParliament in this behalf.\".')]"
      ]
     },
     "execution_count": 29,
     "metadata": {},
     "output_type": "execute_result"
    }
   ],
   "source": [
    "vector_store.similarity_search(\"I had a argument with Police could You tell me what to do according to the indian constituion\")"
   ]
  },
  {
   "cell_type": "code",
   "execution_count": 6,
   "metadata": {},
   "outputs": [],
   "source": [
    "vector_store = AstraDBVectorStore(embedding = gemini_embedding,\n",
    "                                      api_endpoint = DB_ENDPOINT,\n",
    "                                      namespace = \"constitution\",\n",
    "                                      token = ASTRA_API_KEY,\n",
    "                                      collection_name = \"Law_bot\")"
   ]
  },
  {
   "cell_type": "code",
   "execution_count": 28,
   "metadata": {},
   "outputs": [],
   "source": [
    "retriver = vector_store.as_retriever()"
   ]
  },
  {
   "cell_type": "code",
   "execution_count": 8,
   "metadata": {},
   "outputs": [],
   "source": [
    "class GraphState(TypedDict):\n",
    "    question : str\n",
    "    documents : List[str]\n",
    "    generation : str   \n",
    "    route : str"
   ]
  },
  {
   "cell_type": "code",
   "execution_count": 32,
   "metadata": {},
   "outputs": [],
   "source": [
    "def route(state : GraphState) -> str:\n",
    "    question = state[\"question\"]\n",
    "\n",
    "    class RouteQuery(BaseModel):\n",
    "        datasource: Literal[\"vectorstore\", \"out_of_context\"] = Field(..., description = \"For a given User Question find out whether to route it to vectorstore or out_of_context.\")\n",
    "\n",
    "    system = \"\"\"You are an expert at routing a user question to a vectorstore or out_of_context.\n",
    "    The vectorstore contains documents of The Constitution of India. NOTE: if any question has the words 'according to Indian Constitution' use 'vectorstore'.\n",
    "    Use the vectorstore for questions on these topics. Otherwise, use out_of_context.\"\"\"\n",
    "\n",
    "    llm_router = llm.with_structured_output(RouteQuery)\n",
    "\n",
    "    route_prompt = ChatPromptTemplate.from_messages([(\"system\", system), (\"human\", \"{question}\")])\n",
    "    question_router = route_prompt | llm_router\n",
    "    response = question_router.invoke({\"question\": question})\n",
    "    \n",
    "    return response"
   ]
  },
  {
   "cell_type": "code",
   "execution_count": 31,
   "metadata": {},
   "outputs": [
    {
     "name": "stdout",
     "output_type": "stream",
     "text": [
      "datasource='vectorstore'\n"
     ]
    }
   ],
   "source": [
    "def Grade_Docs(state : GraphState):\n",
    "    docs = state[\"documents\"]\n",
    "    question = state[\"question\"]\n",
    "    \n",
    "    class Grading(BaseModel):\n",
    "        binary_source: Literal[\"yes\", \"no\"] = Field(..., \"Documents are relevant to question, Yes or no\")\n",
    "    \n",
    "    system = \"\"\"You are a grader assessing relevance of a retrieved document to a user question. \\n\n",
    "    If the document contains keyword(s) or semantic meaning related to the user question, grade it as relevant. \\n\n",
    "    It does not need to be a stringent test. The goal is to filter out erroneous retrievals. \\n\n",
    "    Give a binary score 'yes' or 'no' score to indicate whether the document is relevant to the question.\"\"\"\n",
    "\n",
    "    grade_prompt = ChatPromptTemplate.from_messages([(\"system\", system), (\"human\", \"Retrieved document: \\n\\n {document} \\n\\n User question: {question}\")])\n",
    "\n",
    "    llm_grader = llm.with_structured_output(Grading)\n",
    "    retrieval_grader = grade_prompt | llm_grader\n",
    "\n",
    "    retrieval_grader.invoke({\"question\": question, \"document\": docs})\n",
    "    \n",
    "    "
   ]
  },
  {
   "cell_type": "code",
   "execution_count": null,
   "metadata": {},
   "outputs": [],
   "source": []
  },
  {
   "cell_type": "code",
   "execution_count": null,
   "metadata": {},
   "outputs": [],
   "source": []
  }
 ],
 "metadata": {
  "kernelspec": {
   "display_name": "law",
   "language": "python",
   "name": "python3"
  },
  "language_info": {
   "codemirror_mode": {
    "name": "ipython",
    "version": 3
   },
   "file_extension": ".py",
   "mimetype": "text/x-python",
   "name": "python",
   "nbconvert_exporter": "python",
   "pygments_lexer": "ipython3",
   "version": "3.10.14"
  }
 },
 "nbformat": 4,
 "nbformat_minor": 2
}
