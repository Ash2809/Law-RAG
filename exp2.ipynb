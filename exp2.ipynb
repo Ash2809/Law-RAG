{
 "cells": [
  {
   "cell_type": "code",
   "execution_count": 53,
   "metadata": {},
   "outputs": [],
   "source": [
    "from langchain.text_splitter import RecursiveCharacterTextSplitter\n",
    "from langchain.document_loaders import PyPDFLoader,DirectoryLoader\n",
    "from langchain_google_genai import ChatGoogleGenerativeAI, GoogleGenerativeAIEmbeddings\n",
    "from langchain_astradb import AstraDBVectorStore\n",
    "from langchain_core.prompts import ChatPromptTemplate\n",
    "from langchain.pydantic_v1 import BaseModel, Field\n",
    "from langchain_core.output_parsers import StrOutputParser\n",
    "from langchain import hub\n",
    "from langchain.schema import Document\n",
    "from langgraph.graph import START, StateGraph, END\n",
    "from typing import Literal, List\n",
    "from typing_extensions import TypedDict\n",
    "from dotenv import load_dotenv\n",
    "import os"
   ]
  },
  {
   "cell_type": "code",
   "execution_count": 2,
   "metadata": {},
   "outputs": [],
   "source": [
    "load_dotenv()\n",
    "\n",
    "GOOGLE_API_KEY = os.getenv(\"GOOGLE_API_KEY\")\n",
    "ASTRA_API_KEY = os.getenv(\"ASTRA_API_KEY\")\n",
    "DB_ENDPOINT = os.getenv(\"DB_ENDPOINT\")\n",
    "DB_ID = os.getenv(\"DB_ID\")\n",
    "LANGCHAIN_TRACING_V2= True\n",
    "LANGCHAIN_ENDPOINT=\"https://api.smith.langchain.com\"\n",
    "LANGCHAIN_API_KEY=os.getenv(\"LANGCHAIN_API_KEY\")\n",
    "LANGCHAIN_PROJECT=\"Law-Bot\""
   ]
  },
  {
   "cell_type": "code",
   "execution_count": 3,
   "metadata": {},
   "outputs": [],
   "source": [
    "llm = ChatGoogleGenerativeAI(api_key = GOOGLE_API_KEY, model = \"gemini-1.5-flash\",temperature = 1)\n",
    "gemini_embedding = GoogleGenerativeAIEmbeddings(google_api_key = GOOGLE_API_KEY, model = \"models/embedding-001\")"
   ]
  },
  {
   "cell_type": "code",
   "execution_count": 4,
   "metadata": {},
   "outputs": [],
   "source": [
    "vector_store = AstraDBVectorStore(embedding = gemini_embedding,\n",
    "                                      api_endpoint = DB_ENDPOINT,\n",
    "                                      namespace = \"constitution\",\n",
    "                                      token = ASTRA_API_KEY,\n",
    "                                      collection_name = \"Law_bot\")\n",
    "\n",
    "retriever = vector_store.as_retriever()"
   ]
  },
  {
   "cell_type": "code",
   "execution_count": 73,
   "metadata": {},
   "outputs": [],
   "source": [
    "class GraphState(TypedDict):\n",
    "    question : str\n",
    "    documents : List[str]\n",
    "    generation : str    "
   ]
  },
  {
   "cell_type": "code",
   "execution_count": 101,
   "metadata": {},
   "outputs": [],
   "source": [
    "def route(state):#THIS IS AN EDGE\n",
    "    question = state[\"question\"]\n",
    "    print(\"PP\")\n",
    "    class RouteQuery(BaseModel):\n",
    "        datasource: Literal[\"vector-store\", \"out_of_context\"] = Field(..., description = \"For a Given User Question Find out whether to route it to vector-store or out_of_context\")\n",
    "    \n",
    "    system = \"\"\"You are an expert at routing a user question to a vectorstore or out_of_context.\n",
    "    The vector-store contains documents of The Constitution of India. NOTE: if any question has the words 'according to Indian Constitution' use 'vector-store'.\n",
    "    Use the vector-store for questions on these topics. Otherwise, use out_of_context.\"\"\"\n",
    "\n",
    "    llm_router = llm.with_structured_output(RouteQuery)\n",
    "\n",
    "    route_prompt = ChatPromptTemplate.from_messages([(\"system\",system), (\"human\", \"{question}\")])\n",
    "    question_router = route_prompt | llm_router\n",
    "\n",
    "    response = question_router.invoke({\"question\" : question})\n",
    "    print(response)\n",
    "    if response.datasource == \"out_of_context\":\n",
    "        print(\"==ROUTING TO OUT_OF_CONTEXT===\")\n",
    "        return \"out_of_context\"\n",
    "    else:\n",
    "        print(\"==ROUTING TO VECTOR STORE===\")\n",
    "        return \"vector-store\""
   ]
  },
  {
   "cell_type": "code",
   "execution_count": 102,
   "metadata": {},
   "outputs": [],
   "source": [
    "def retrieve(state):\n",
    "    question = state[\"question\"]\n",
    "    docs = retriever.invoke(question)\n",
    "    # state[\"documents\"]\n",
    "    return {\"documents\" : docs}"
   ]
  },
  {
   "cell_type": "code",
   "execution_count": 103,
   "metadata": {},
   "outputs": [],
   "source": [
    "def generation(state):\n",
    "    question = state[\"question\"]\n",
    "    docs = state[\"documents\"]\n",
    "    \n",
    "    prompt = hub.pull(\"rlm/rag-prompt\", api_key = LANGCHAIN_API_KEY)\n",
    "\n",
    "    # def format_docs(docs):\n",
    "    #     return \"\\n\\n\".join(doc.page_content for doc in docs)\n",
    "    \n",
    "    # docs = format_docs(docs)\n",
    "    \n",
    "    rag_chain = prompt | llm | StrOutputParser()\n",
    "    generated_text = rag_chain.invoke({\"context\": docs, \"question\": question})\n",
    "    # state[\"generation\"] = generated_text\n",
    "    return {\"documents\": docs, \"question\": question, \"generation\": generated_text}"
   ]
  },
  {
   "cell_type": "code",
   "execution_count": 104,
   "metadata": {},
   "outputs": [],
   "source": [
    "def AnswerGrader(state):\n",
    "    question = state[\"question\"]\n",
    "    generation = state[\"generation\"]\n",
    "\n",
    "    class Grade(BaseModel):\n",
    "        Binary_Score: str = Field(description=\"Does the answer resolve the query. yes or no\")\n",
    "\n",
    "    structured_llm = llm.with_structured_output(Grade)\n",
    "\n",
    "    system = \"\"\"You are a grader assessing whether an answer addresses / resolves a question \\n\n",
    "     Give a binary score 'yes' or 'no'. Yes' means that the answer resolves the question.\"\"\"\n",
    "    \n",
    "    answer_prompt = ChatPromptTemplate.from_messages(\n",
    "    [\n",
    "        (\"system\", system),\n",
    "        (\"human\", \"User question: \\n\\n {question} \\n\\n LLM generation: {generation}\"),\n",
    "    ])\n",
    "\n",
    "    grader_chain = answer_prompt | structured_llm\n",
    "    response = grader_chain.invoke({\"question\": question, \"generation\": generation})\n",
    "\n",
    "    if response.Binary_Score == \"yes\":\n",
    "        return \"useful\"\n",
    "    else:\n",
    "        return \"not useful\""
   ]
  },
  {
   "cell_type": "code",
   "execution_count": 113,
   "metadata": {},
   "outputs": [],
   "source": [
    "def Grade_Docs(state):    \n",
    "    question = state[\"question\"]\n",
    "    documents = state[\"documents\"]\n",
    "    class Grade_Docs(BaseModel):\n",
    "        binary_score : Literal[\"yes\",\"no\"] = Field(...,description = \"Documents are relevant to the question, 'yes' or 'no'\")\n",
    "\n",
    "    system = \"\"\"You are a grader assessing relevance of a retrieved document to a user question. \\n\n",
    "        If the document contains keyword(s) or semantic meaning related to the user question, grade it as relevant. \\n\n",
    "        It does not need to be a stringent test. The goal is to filter out erroneous retrievals. \\n\n",
    "        Give a binary score 'yes' or 'no' score to indicate whether the document is relevant to the question.\"\"\"\n",
    "\n",
    "    grade_prompt = ChatPromptTemplate.from_messages([(\"system\", system),(\"human\", \"Retrieved document: \\n\\n {document} \\n\\n User question: {question}\"),])\n",
    "\n",
    "    llm_grader = llm.with_structured_output(Grade_Docs)\n",
    "\n",
    "    retrieval_grader = grade_prompt | llm_grader\n",
    "\n",
    "    filtered_docs = []\n",
    "    for d in documents:\n",
    "        score = retrieval_grader.invoke(\n",
    "            {\"question\": question, \"document\": d.page_content}\n",
    "        )\n",
    "        grade = score.binary_score\n",
    "        if grade == \"yes\":\n",
    "            print(\"---GRADE: DOCUMENT RELEVANT---\")\n",
    "            filtered_docs.append(d)\n",
    "        else:\n",
    "            print(\"---GRADE: DOCUMENT NOT RELEVANT---\")\n",
    "            continue\n",
    "    # state[\"documents\"] = filtered_docs\n",
    "    return {\"documents\": filtered_docs, \"question\": question}"
   ]
  },
  {
   "cell_type": "code",
   "execution_count": 114,
   "metadata": {},
   "outputs": [],
   "source": [
    "def transform_query(state):    \n",
    "    question = state[\"question\"]\n",
    "    documents = state[\"documents\"]\n",
    "\n",
    "    system = \"\"\"You a question re-writer that converts an input question to a better version that is optimized \\n\n",
    "        for vectorstore retrieval. Look at the input and try to reason about the underlying semantic intent / meaning.\"\"\"\n",
    "    re_write_prompt = ChatPromptTemplate.from_messages(\n",
    "        [\n",
    "            (\"system\", system),\n",
    "            (\n",
    "                \"human\",\n",
    "                \"Here is the initial question: \\n\\n {question} \\n Formulate only one improved question.\",\n",
    "            ),\n",
    "        ]\n",
    "    )\n",
    "\n",
    "    question_rewriter = re_write_prompt | llm | StrOutputParser()\n",
    "    revised_question = question_rewriter.invoke({\"question\": question})\n",
    "    # state[\"revised_question\"] = revised_question\n",
    "    return {\"documents\": documents, \"question\": revised_question}"
   ]
  },
  {
   "cell_type": "code",
   "execution_count": 115,
   "metadata": {},
   "outputs": [],
   "source": [
    "def decide_to_generate(state):\n",
    "    state[\"question\"]\n",
    "    filtered_documents = state[\"documents\"]\n",
    "\n",
    "    if not filtered_documents:\n",
    "        print(\n",
    "            \"---DECISION: ALL DOCUMENTS ARE NOT RELEVANT TO QUESTION, TRANSFORM QUERY---\"\n",
    "        )\n",
    "        return \"transform_query\"\n",
    "    else:\n",
    "        # We have relevant documents, so generate answer\n",
    "        print(\"---DECISION: GENERATE---\")\n",
    "        return \"generate\""
   ]
  },
  {
   "cell_type": "code",
   "execution_count": 116,
   "metadata": {},
   "outputs": [],
   "source": [
    "def out_of_context(State):\n",
    "    question = State[\"question\"]\n",
    "    print(\"The given Question is Out of Context Please Ask relevant Questions related to the Indian Constitution.\")"
   ]
  },
  {
   "cell_type": "code",
   "execution_count": 117,
   "metadata": {},
   "outputs": [],
   "source": [
    "workflow = StateGraph(GraphState)\n",
    "\n",
    "workflow.add_node(\"out_of_context_node\",out_of_context)\n",
    "workflow.add_node(\"retrieve_node\",retrieve)\n",
    "workflow.add_node(\"grade_documents_node\",Grade_Docs)\n",
    "workflow.add_node(\"generation_node\", generation)\n",
    "workflow.add_node(\"transform_query_node\", transform_query)\n",
    "\n",
    "workflow.add_conditional_edges(START, route,{\n",
    "    \"vector-store\" : \"retrieve_node\",\n",
    "    \"out_of_context\": \"out_of_context_node\"\n",
    "})\n",
    "\n",
    "workflow.add_edge(\"out_of_context_node\", END)\n",
    "workflow.add_edge(\"retrieve_node\", \"grade_documents_node\")\n",
    "\n",
    "workflow.add_conditional_edges(\"grade_documents_node\", decide_to_generate,{\n",
    "    \"transform_query\" : \"transform_query_node\",\n",
    "    \"generate\" : \"generation_node\"\n",
    "})\n",
    "\n",
    "workflow.add_edge(\"transform_query_node\", \"retrieve_node\")\n",
    "\n",
    "workflow.add_conditional_edges(\"generation_node\", AnswerGrader,{\n",
    "    \"useful\" : END,\n",
    "    \"not useful\" : \"transform_query_node\"\n",
    "})\n",
    "\n",
    "app = workflow.compile()"
   ]
  },
  {
   "cell_type": "code",
   "execution_count": 118,
   "metadata": {},
   "outputs": [
    {
     "data": {
      "image/jpeg": "[encoded data removed]",
      "text/plain": [
       "<IPython.core.display.Image object>"
      ]
     },
     "metadata": {},
     "output_type": "display_data"
    }
   ],
   "source": [
    "from IPython.display import Image, display\n",
    "\n",
    "try:\n",
    "    display(Image(app.get_graph().draw_mermaid_png()))\n",
    "except Exception:\n",
    "    pass"
   ]
  },
  {
   "cell_type": "code",
   "execution_count": 120,
   "metadata": {},
   "outputs": [
    {
     "name": "stdout",
     "output_type": "stream",
     "text": [
      "PP\n",
      "datasource='vector-store'\n",
      "==ROUTING TO VECTOR STORE===\n",
      "\"Node 'retrieve_node':\"\n",
      "'\\n---\\n'\n",
      "---GRADE: DOCUMENT RELEVANT---\n",
      "---GRADE: DOCUMENT RELEVANT---\n",
      "---GRADE: DOCUMENT RELEVANT---\n",
      "---GRADE: DOCUMENT RELEVANT---\n",
      "---DECISION: GENERATE---\n",
      "\"Node 'grade_documents_node':\"\n",
      "'\\n---\\n'\n",
      "\"Node 'generation_node':\"\n",
      "'\\n---\\n'\n",
      "('The Indian Constitution guarantees the right to freedom of speech and '\n",
      " 'expression to all citizens under Article 19(1)(a). This right is not '\n",
      " 'absolute and can be subject to reasonable restrictions in the interest of '\n",
      " 'national security, public order, decency or morality, and other similar '\n",
      " 'concerns. \\n')\n"
     ]
    }
   ],
   "source": [
    "from pprint import pprint\n",
    "inputs = {\n",
    "    \"question\": \"What is right to speech in indian consitution?\"\n",
    "}\n",
    "for output in app.stream(inputs):\n",
    "    for key, value in output.items():\n",
    "        pprint(f\"Node '{key}':\")\n",
    "    pprint(\"\\n---\\n\")\n",
    "\n",
    "# Final generation\n",
    "pprint(value[\"generation\"])"
   ]
  },
  {
   "cell_type": "code",
   "execution_count": null,
   "metadata": {},
   "outputs": [],
   "source": []
  }
 ],
 "metadata": {
  "kernelspec": {
   "display_name": "law",
   "language": "python",
   "name": "python3"
  },
  "language_info": {
   "codemirror_mode": {
    "name": "ipython",
    "version": 3
   },
   "file_extension": ".py",
   "mimetype": "text/x-python",
   "name": "python",
   "nbconvert_exporter": "python",
   "pygments_lexer": "ipython3",
   "version": "3.10.14"
  }
 },
 "nbformat": 4,
 "nbformat_minor": 2
}
