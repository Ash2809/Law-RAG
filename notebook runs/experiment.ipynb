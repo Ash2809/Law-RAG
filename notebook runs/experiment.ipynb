{
 "cells": [
  {
   "cell_type": "code",
   "execution_count": 1,
   "metadata": {},
   "outputs": [
    {
     "name": "stderr",
     "output_type": "stream",
     "text": [
      "c:\\a\\envs\\law\\lib\\site-packages\\tqdm\\auto.py:21: TqdmWarning: IProgress not found. Please update jupyter and ipywidgets. See https://ipywidgets.readthedocs.io/en/stable/user_install.html\n",
      "  from .autonotebook import tqdm as notebook_tqdm\n"
     ]
    }
   ],
   "source": [
    "from langchain.text_splitter import RecursiveCharacterTextSplitter\n",
    "from langchain.document_loaders import PyPDFLoader,DirectoryLoader\n",
    "from langchain_google_genai import ChatGoogleGenerativeAI, GoogleGenerativeAIEmbeddings\n",
    "from langchain_astradb import AstraDBVectorStore\n",
    "from langchain_core.prompts import ChatPromptTemplate\n",
    "from langchain.pydantic_v1 import BaseModel, Field\n",
    "from langchain_core.output_parsers import StrOutputParser\n",
    "from langchain_core.runnables import RunnablePassthrough, RunnableLambda\n",
    "from langchain import hub\n",
    "from langchain.schema import Document\n",
    "from langgraph.graph import START, StateGraph, END\n",
    "from typing import Literal, List\n",
    "from typing_extensions import TypedDict\n",
    "from dotenv import load_dotenv\n",
    "import os"
   ]
  },
  {
   "cell_type": "code",
   "execution_count": 2,
   "metadata": {},
   "outputs": [],
   "source": [
    "load_dotenv()\n",
    "\n",
    "GOOGLE_API_KEY = os.getenv(\"GOOGLE_API_KEY\")\n",
    "ASTRA_API_KEY = os.getenv(\"ASTRA_API_KEY\")\n",
    "DB_ENDPOINT = os.getenv(\"DB_ENDPOINT\")\n",
    "DB_ID = os.getenv(\"DB_ID\")"
   ]
  },
  {
   "cell_type": "code",
   "execution_count": 161,
   "metadata": {},
   "outputs": [
    {
     "name": "stdout",
     "output_type": "stream",
     "text": [
      "The capital of India is **New Delhi**. \n",
      "\n"
     ]
    }
   ],
   "source": [
    "llm = ChatGoogleGenerativeAI(api_key = GOOGLE_API_KEY, model = \"gemini-1.5-flash\",temperature = 1)\n",
    "print(llm.invoke(\"What is capital of India\").content)"
   ]
  },
  {
   "cell_type": "code",
   "execution_count": 4,
   "metadata": {},
   "outputs": [],
   "source": [
    "def pdf_2_document(data):\n",
    "    loader = DirectoryLoader(glob = \"*.pdf\", loader_cls = PyPDFLoader, path = data)\n",
    "    docs = loader.load()\n",
    "    return docs"
   ]
  },
  {
   "cell_type": "code",
   "execution_count": 5,
   "metadata": {},
   "outputs": [],
   "source": [
    "docs = pdf_2_document(\"data/\")"
   ]
  },
  {
   "cell_type": "code",
   "execution_count": 6,
   "metadata": {},
   "outputs": [],
   "source": [
    "def text_2_chunks(docs):\n",
    "    splitter = RecursiveCharacterTextSplitter(chunk_size = 500, chunk_overlap = 100)\n",
    "    chunks = splitter.split_documents(docs)\n",
    "    return chunks"
   ]
  },
  {
   "cell_type": "code",
   "execution_count": 7,
   "metadata": {},
   "outputs": [
    {
     "data": {
      "text/plain": [
       "2306"
      ]
     },
     "execution_count": 7,
     "metadata": {},
     "output_type": "execute_result"
    }
   ],
   "source": [
    "chunks = text_2_chunks(docs)\n",
    "len(chunks)"
   ]
  },
  {
   "cell_type": "markdown",
   "metadata": {},
   "source": [
    "Data Ingestion Process"
   ]
  },
  {
   "cell_type": "code",
   "execution_count": 4,
   "metadata": {},
   "outputs": [],
   "source": [
    "gemini_embedding = GoogleGenerativeAIEmbeddings(google_api_key = GOOGLE_API_KEY, model = \"models/embedding-001\")"
   ]
  },
  {
   "cell_type": "code",
   "execution_count": 11,
   "metadata": {},
   "outputs": [],
   "source": [
    "def ingest(status):\n",
    "    vector_store = AstraDBVectorStore(embedding = gemini_embedding,\n",
    "                                      api_endpoint = DB_ENDPOINT,\n",
    "                                      namespace = \"constitution\",\n",
    "                                      token = ASTRA_API_KEY,\n",
    "                                      collection_name = \"Law_bot\")\n",
    "    \n",
    "    if status == None:\n",
    "        len = vector_store.add_documents(chunks)\n",
    "        return vector_store\n",
    "    else:\n",
    "        return vector_store"
   ]
  },
  {
   "cell_type": "code",
   "execution_count": 12,
   "metadata": {},
   "outputs": [
    {
     "name": "stdout",
     "output_type": "stream",
     "text": [
      "Data Ingested Successfully\n"
     ]
    }
   ],
   "source": [
    "vector_store = ingest(\"done\")#CHANGE THIS THE PARAMETER TO NONE I ALREADY RAN THIS CELL HENCE IT IS \"done\",\n",
    "print(\"Data Ingested Successfully\")"
   ]
  },
  {
   "cell_type": "code",
   "execution_count": 12,
   "metadata": {},
   "outputs": [
    {
     "data": {
      "text/plain": [
       "[Document(metadata={'source': 'data\\\\Constitution.pdf', 'page': 41}, page_content='THE CONSTITUTION OF  INDIA\\n(Part III.—Fundamental Rights)11\\n(6) Nothing in sub-clause ( g) of the said clause shall affect the operation \\nof any existing law in so far as it imposes, or prevent the State from making \\nany law imposing, in the interests of the general public, reasonable restrictions \\non the exercise of the right conferred by the said sub-clause, and, in particular, \\n1[nothing in the said sub-clause shall affect the operation of any existing law in'),\n",
       " Document(metadata={'source': 'data\\\\Constitution.pdf', 'page': 43}, page_content='THE CONSTITUTION OF  INDIA\\n(Part III.—Fundamental Rights)13\\nProvided that nothing in this sub-clause shall authorise the detention \\nof any person beyond the maximum period prescribed by any law made \\nby Parliament under sub-clause ( b) of clause (7); or\\n(b) such person is detained in accordance with the provisions of any \\nlaw made by Parliament under sub-clauses ( a) and (b) of clause (7).\\n(5) When any person is detained in pursuance of an order made under'),\n",
       " Document(metadata={'source': 'data\\\\Constitution.pdf', 'page': 42}, page_content='that State; and\\n(iii) in the case of the detention of a person in pursuance of an order of detention \\nmade by theadministrator of a Union territory or an officer or authority subordinate to such \\nadministrator, such High Court as may be specified by or under any law made by \\nParliament in this behalf.\".'),\n",
       " Document(metadata={'source': 'data\\\\Constitution.pdf', 'page': 134}, page_content='Notwithstanding anything in article 323***, every High Court shall have \\npower, throughout the territories in relation to which it exercises jurisdiction, to \\nissue to any person or authority, including in appropriate cases, any \\nGovernment, within those territories directions, orders or writs, including \\n4[writs in the nature of habeas corpus, mandamus, prohibition, quo warranto \\nand certiorari, or any of them, for the enforcement of any of the rights')]"
      ]
     },
     "execution_count": 12,
     "metadata": {},
     "output_type": "execute_result"
    }
   ],
   "source": [
    "vector_store.similarity_search(\"I had a argument with Police could You tell me what to do according to the indian constituion\")"
   ]
  },
  {
   "cell_type": "code",
   "execution_count": 5,
   "metadata": {},
   "outputs": [],
   "source": [
    "vector_store = AstraDBVectorStore(embedding = gemini_embedding,\n",
    "                                      api_endpoint = DB_ENDPOINT,\n",
    "                                      namespace = \"constitution\",\n",
    "                                      token = ASTRA_API_KEY,\n",
    "                                      collection_name = \"Law_bot\")"
   ]
  },
  {
   "cell_type": "code",
   "execution_count": 6,
   "metadata": {},
   "outputs": [],
   "source": [
    "retriver = vector_store.as_retriever()"
   ]
  },
  {
   "cell_type": "code",
   "execution_count": 7,
   "metadata": {},
   "outputs": [],
   "source": [
    "class GraphState(TypedDict):\n",
    "    question : str\n",
    "    documents : List[str]\n",
    "    generation : str   \n",
    "    route : str"
   ]
  },
  {
   "cell_type": "code",
   "execution_count": 8,
   "metadata": {},
   "outputs": [],
   "source": [
    "def route(state : GraphState) -> str:\n",
    "    question = state[\"question\"]\n",
    "\n",
    "    class RouteQuery(BaseModel):\n",
    "        datasource: Literal[\"vectorstore\", \"out_of_context\"] = Field(..., description = \"For a given User Question find out whether to route it to vectorstore or out_of_context.\")\n",
    "\n",
    "    system = \"\"\"You are an expert at routing a user question to a vectorstore or out_of_context.\n",
    "    The vectorstore contains documents of The Constitution of India. NOTE: if any question has the words 'according to Indian Constitution' use 'vectorstore'.\n",
    "    Use the vectorstore for questions on these topics. Otherwise, use out_of_context.\"\"\"\n",
    "\n",
    "    llm_router = llm.with_structured_output(RouteQuery)\n",
    "\n",
    "    route_prompt = ChatPromptTemplate.from_messages([(\"system\", system), (\"human\", \"{question}\")])\n",
    "    question_router = route_prompt | llm_router\n",
    "    response = question_router.invoke({\"question\": question})\n",
    "    \n",
    "    return response.datasource"
   ]
  },
  {
   "cell_type": "code",
   "execution_count": 226,
   "metadata": {},
   "outputs": [],
   "source": [
    "def Grade_Docs(state : GraphState) -> str:\n",
    "    # docs = state[\"documents\"]\n",
    "    question = state[\"question\"]\n",
    "    print(question)\n",
    "    docs = retriver.get_relevant_documents(question)\n",
    "    print(\"Docs are available\")\n",
    "    class Grading(BaseModel):\n",
    "        binary_source: Literal[\"yes\", \"no\"] = Field(..., description = \"Documents are relevant to question, Yes or no\")\n",
    "    \n",
    "    system = \"\"\"You are a grader assessing relevance of a retrieved document to a user question. \\n\n",
    "    If the document contains keyword(s) or semantic meaning related to the user question, grade it as relevant. \\n\n",
    "    It does not need to be a stringent test. The goal is to filter out erroneous retrievals. \\n\n",
    "    Give a binary score 'yes' or 'no' score to indicate whether the document is relevant to the question.\"\"\"\n",
    "\n",
    "    grade_prompt = ChatPromptTemplate.from_messages([(\"system\", system), (\"human\", \"Retrieved document: \\n\\n {document} \\n\\n User question: {question}\")])\n",
    "\n",
    "    llm_grader = llm.with_structured_output(Grading)\n",
    "    retrieval_grader = grade_prompt | llm_grader\n",
    "    \n",
    "    response = retrieval_grader.invoke({\"question\": question, \"document\": docs})\n",
    "    print(response)\n",
    "    # return response.binary_source\n",
    "    state[\"documents\"] = docs\n",
    "    return {\"binary_source\": response.binary_source}"
   ]
  },
  {
   "cell_type": "code",
   "execution_count": 227,
   "metadata": {},
   "outputs": [],
   "source": [
    "load_dotenv()\n",
    "LANGCHAIN_TRACING_V2= True\n",
    "LANGCHAIN_ENDPOINT=\"https://api.smith.langchain.com\"\n",
    "LANGCHAIN_API_KEY=os.getenv(\"LANGCHAIN_API_KEY\")\n",
    "LANGCHAIN_PROJECT=\"Law-Bot\""
   ]
  },
  {
   "cell_type": "code",
   "execution_count": 306,
   "metadata": {},
   "outputs": [],
   "source": [
    "def retrieve(state : GraphState):\n",
    "    question = state[\"question\"]\n",
    "\n",
    "    prompt = hub.pull(\"rlm/rag-prompt\",api_key=LANGCHAIN_API_KEY)\n",
    "    \n",
    "    rag_chain = prompt | llm | StrOutputParser()\n",
    "\n",
    "    docs = retriver.get_relevant_documents(question)\n",
    "    generation = rag_chain.invoke({\"context\" : docs,\"question\" : question})\n",
    "    # print(generation)\n",
    "\n",
    "    state[\"generation\"] = generation\n",
    "    state[\"documents\"] = docs\n",
    "    # print(state[\"generation\"])\n",
    "    return generation"
   ]
  },
  {
   "cell_type": "code",
   "execution_count": 307,
   "metadata": {},
   "outputs": [],
   "source": [
    "def decide_to_generate(state: GraphState):\n",
    "    question = state[\"question\"]\n",
    "    generation = state[\"generation\"]\n",
    "\n",
    "    class Decide(BaseModel):\n",
    "        binary_score: Literal[\"Yes\", \"No\"] = Field(..., description=\"Answer should be generated or not, yes or no.\")\n",
    "\n",
    "    llm_decide = llm.with_structured_output(Decide)\n",
    "\n",
    "    system = \"\"\"You are an expert in deciding whether an answer to a given question should be generated or not.\n",
    "                If you think that the generated answer resolves the query, answer 'Yes', otherwise answer 'No'.\n",
    "                question: {question} answer:{generation}\"\"\"\n",
    "    \n",
    "    decide_prompt = ChatPromptTemplate.from_messages([(\"system\", system), (\"human\", \"question:{question}\\n answer: {generation}\")])\n",
    "\n",
    "    decide = decide_prompt | llm_decide\n",
    "\n",
    "    response = decide.invoke({\"question\": question, \"answer\": generation})\n",
    "\n",
    "    # return response.binary_score\n",
    "    if isinstance(response, dict):\n",
    "        return response\n",
    "    else:\n",
    "        # Wrap response in a dict with the key 'binary_score'\n",
    "        return {\"binary_score\": response}\n",
    "    "
   ]
  },
  {
   "cell_type": "code",
   "execution_count": 308,
   "metadata": {},
   "outputs": [],
   "source": [
    "def transform_query(state:GraphState):\n",
    "    question = state[\"question\"]\n",
    "\n",
    "    system = \"\"\"You a question re-writer that converts an input question to a better version that is optimized \\n\n",
    "     for vectorstore retrieval. Look at the input and try to reason about the underlying semantic intent / meaning.\"\"\"\n",
    "\n",
    "\n",
    "    rewrite_prompt = ChatPromptTemplate([(\"system\",system),(\"human\",\"Here is the initial question:\\n{question} formulate only one improved question\")])\n",
    "\n",
    "    question_rewriter = rewrite_prompt | llm | StrOutputParser()\n",
    "    question_rewriter.invoke({\"question\": question})\n",
    "\n",
    "    better_question = question_rewriter.invoke({\"question\":question})\n",
    "\n",
    "    state[\"question\"] = better_question\n"
   ]
  },
  {
   "cell_type": "code",
   "execution_count": 309,
   "metadata": {},
   "outputs": [],
   "source": [
    "def out_of_context(state):\n",
    "    print(\"THE QUESTION IS OUT OF CONTEXT FOR THE INDIAN CONSTITUTION.\")"
   ]
  },
  {
   "cell_type": "code",
   "execution_count": 310,
   "metadata": {},
   "outputs": [],
   "source": [
    "def result(state):\n",
    "    generation = state[\"generation\"]\n",
    "    print(f\"BOT:\\n{generation}\")"
   ]
  },
  {
   "cell_type": "markdown",
   "metadata": {},
   "source": [
    "MAKING THE GRAPH COMPRISING OF ALL THE NODES AND EDGES"
   ]
  },
  {
   "cell_type": "code",
   "execution_count": 311,
   "metadata": {},
   "outputs": [],
   "source": [
    "workflow = StateGraph(GraphState)\n",
    "\n",
    "workflow.add_node(\"out_of_context_node\", out_of_context)\n",
    "# workflow.add_node(\"doc_dec_node\",Grade_Docs)\n",
    "workflow.add_node(\"retrieve_node\", retrieve)\n",
    "# workflow.add_node(\"grade_docs_node\", Grade_Docs)\n",
    "workflow.add_node(\"transform_query_node\", transform_query)\n",
    "workflow.add_node(\"result_node\", result)\n",
    "\n",
    "# Adding conditional edges with correct conditions\n",
    "workflow.add_conditional_edges(START, route,{\n",
    "    \"vectorstore\": \"retrieve_node\",\n",
    "    \"out_of_context\": \"out_of_context_node\"\n",
    "})\n",
    "\n",
    "workflow.add_edge(\"out_of_context_node\", END)\n",
    "\n",
    "workflow.add_conditional_edges(\"retrieve_node\", decide_to_generate,{\n",
    "    \"yes\": \"result_node\",\n",
    "    \"no\": \"transform_query_node\"\n",
    "})\n",
    "\n",
    "workflow.add_edge(\"transform_query_node\",\"retrieve_node\")\n",
    "\n",
    "\n",
    "workflow.add_edge(\"result_node\",END)\n",
    "\n",
    "app = workflow.compile()\n"
   ]
  },
  {
   "cell_type": "code",
   "execution_count": 312,
   "metadata": {},
   "outputs": [
    {
     "data": {
      "image/jpeg": "[encoded data removed]",
      "text/plain": [
       "<IPython.core.display.Image object>"
      ]
     },
     "metadata": {},
     "output_type": "display_data"
    }
   ],
   "source": [
    "from IPython.display import Image, display\n",
    "\n",
    "try:\n",
    "    display(Image(app.get_graph().draw_mermaid_png()))\n",
    "except Exception:\n",
    "    pass"
   ]
  },
  {
   "cell_type": "code",
   "execution_count": 322,
   "metadata": {},
   "outputs": [
    {
     "name": "stdout",
     "output_type": "stream",
     "text": [
      "Expected dict, got The provided context discusses reservations of seats for women in the House of the People and Legislative Assemblies of the States. It also mentions provisions for women and children in the Fundamental Rights section. However, the exact article discussing women's rights in the Indian Constitution is not specified in the provided context. \n",
      "\n",
      "The provided context discusses reservations of seats for women in the House of the People and Legislative Assemblies of the States. It also mentions provisions for women and children in the Fundamental Rights section. However, the exact article discussing women's rights in the Indian Constitution is not specified in the provided context. \n",
      "\n"
     ]
    }
   ],
   "source": [
    "import pprint\n",
    "\n",
    "# Define the inputs as a dictionary\n",
    "inputs = {\"question\": \"Which article dicusses about women rights in indian constitution?\"}\n",
    "\n",
    "# Run the workflow\n",
    "try:\n",
    "    for output in app.stream(inputs):\n",
    "        # Print the complete output to inspect its structure\n",
    "        print(\"Complete Output:\")\n",
    "        pprint.pprint(output)\n",
    "\n",
    "        # Check if output is iterable (e.g., a list or dictionary)\n",
    "        if isinstance(output, dict):\n",
    "            for key, value in output.items():\n",
    "                # Print the node name\n",
    "                print(f\"Node '{key}':\")\n",
    "                # Print the detailed output for each node\n",
    "                pprint.pprint(value)\n",
    "                # Optional: Print the data if available\n",
    "                if 'data' in value:\n",
    "                    print(\"Data:\")\n",
    "                    for sub_key, sub_value in value['data'].items():\n",
    "                        print(f\"  {sub_key}: {sub_value}\")\n",
    "                print(\"\\n---\\n\")\n",
    "                \n",
    "                # Debugging for the 'generation' issue\n",
    "                if 'generation' in value:\n",
    "                    print(\"Generation data found:\")\n",
    "                    pprint.pprint(value['generation'])\n",
    "                    \n",
    "        elif isinstance(output, list):\n",
    "            for item in output:\n",
    "                # Print each item in the list\n",
    "                pprint.pprint(item)\n",
    "        else:\n",
    "            # If it's neither a dictionary nor a list\n",
    "            print(f\"Unexpected output type: {type(output)}\")\n",
    "            print(output)\n",
    "\n",
    "except KeyError as e:\n",
    "    print(f\"KeyError: {e} - Check if the key is properly updated or exists in the state.\")\n",
    "except Exception as e:\n",
    "    response = e\n",
    "    print(response)\n",
    "    print(llm.invoke(f\"\"\"{response} remove \"Expected dict, got\" if showing and return the original statement without error .Note Do not write anything else.\"\"\").content)\n"
   ]
  },
  {
   "cell_type": "code",
   "execution_count": null,
   "metadata": {},
   "outputs": [],
   "source": []
  },
  {
   "cell_type": "code",
   "execution_count": null,
   "metadata": {},
   "outputs": [],
   "source": []
  }
 ],
 "metadata": {
  "kernelspec": {
   "display_name": "law",
   "language": "python",
   "name": "python3"
  },
  "language_info": {
   "codemirror_mode": {
    "name": "ipython",
    "version": 3
   },
   "file_extension": ".py",
   "mimetype": "text/x-python",
   "name": "python",
   "nbconvert_exporter": "python",
   "pygments_lexer": "ipython3",
   "version": "3.10.14"
  }
 },
 "nbformat": 4,
 "nbformat_minor": 2
}
